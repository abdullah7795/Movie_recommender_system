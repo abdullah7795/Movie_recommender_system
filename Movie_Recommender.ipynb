{
 "cells": [
  {
   "cell_type": "code",
   "execution_count": 1,
   "id": "49ab0012",
   "metadata": {
    "_cell_guid": "b1076dfc-b9ad-4769-8c92-a6c4dae69d19",
    "_uuid": "8f2839f25d086af736a60e9eeb907d3b93b6e0e5",
    "execution": {
     "iopub.execute_input": "2023-02-06T20:00:47.531129Z",
     "iopub.status.busy": "2023-02-06T20:00:47.530622Z",
     "iopub.status.idle": "2023-02-06T20:00:47.555828Z",
     "shell.execute_reply": "2023-02-06T20:00:47.554793Z"
    },
    "papermill": {
     "duration": 0.037441,
     "end_time": "2023-02-06T20:00:47.558578",
     "exception": false,
     "start_time": "2023-02-06T20:00:47.521137",
     "status": "completed"
    },
    "tags": []
   },
   "outputs": [
    {
     "name": "stdout",
     "output_type": "stream",
     "text": [
      "/kaggle/input/the-movies-dataset/ratings.csv\n",
      "/kaggle/input/the-movies-dataset/links_small.csv\n",
      "/kaggle/input/the-movies-dataset/credits.csv\n",
      "/kaggle/input/the-movies-dataset/keywords.csv\n",
      "/kaggle/input/the-movies-dataset/movies_metadata.csv\n",
      "/kaggle/input/the-movies-dataset/ratings_small.csv\n",
      "/kaggle/input/the-movies-dataset/links.csv\n"
     ]
    }
   ],
   "source": [
    "# This Python 3 environment comes with many helpful analytics libraries installed\n",
    "# It is defined by the kaggle/python Docker image: https://github.com/kaggle/docker-python\n",
    "# For example, here's several helpful packages to load\n",
    "\n",
    "import numpy as np # linear algebra\n",
    "import pandas as pd # data processing, CSV file I/O (e.g. pd.read_csv)\n",
    "import ast\n",
    "# Input data files are available in the read-only \"../input/\" directory\n",
    "# For example, running this (by clicking run or pressing Shift+Enter) will list all files under the input directory\n",
    "\n",
    "import os\n",
    "for dirname, _, filenames in os.walk('/kaggle/input'):\n",
    "    for filename in filenames:\n",
    "        print(os.path.join(dirname, filename))\n",
    "\n",
    "# You can write up to 20GB to the current directory (/kaggle/working/) that gets preserved as output when you create a version using \"Save & Run All\" \n",
    "# You can also write temporary files to /kaggle/temp/, but they won't be saved outside of the current session"
   ]
  },
  {
   "cell_type": "code",
   "execution_count": 2,
   "id": "701757cc",
   "metadata": {
    "execution": {
     "iopub.execute_input": "2023-02-06T20:00:47.574221Z",
     "iopub.status.busy": "2023-02-06T20:00:47.573500Z",
     "iopub.status.idle": "2023-02-06T20:00:52.165700Z",
     "shell.execute_reply": "2023-02-06T20:00:52.164403Z"
    },
    "papermill": {
     "duration": 4.60321,
     "end_time": "2023-02-06T20:00:52.168574",
     "exception": false,
     "start_time": "2023-02-06T20:00:47.565364",
     "status": "completed"
    },
    "tags": []
   },
   "outputs": [
    {
     "data": {
      "text/html": [
       "<div>\n",
       "<style scoped>\n",
       "    .dataframe tbody tr th:only-of-type {\n",
       "        vertical-align: middle;\n",
       "    }\n",
       "\n",
       "    .dataframe tbody tr th {\n",
       "        vertical-align: top;\n",
       "    }\n",
       "\n",
       "    .dataframe thead th {\n",
       "        text-align: right;\n",
       "    }\n",
       "</style>\n",
       "<table border=\"1\" class=\"dataframe\">\n",
       "  <thead>\n",
       "    <tr style=\"text-align: right;\">\n",
       "      <th></th>\n",
       "      <th>cast</th>\n",
       "      <th>crew</th>\n",
       "      <th>id</th>\n",
       "    </tr>\n",
       "  </thead>\n",
       "  <tbody>\n",
       "    <tr>\n",
       "      <th>0</th>\n",
       "      <td>[{'cast_id': 14, 'character': 'Woody (voice)',...</td>\n",
       "      <td>[{'credit_id': '52fe4284c3a36847f8024f49', 'de...</td>\n",
       "      <td>862</td>\n",
       "    </tr>\n",
       "    <tr>\n",
       "      <th>1</th>\n",
       "      <td>[{'cast_id': 1, 'character': 'Alan Parrish', '...</td>\n",
       "      <td>[{'credit_id': '52fe44bfc3a36847f80a7cd1', 'de...</td>\n",
       "      <td>8844</td>\n",
       "    </tr>\n",
       "    <tr>\n",
       "      <th>2</th>\n",
       "      <td>[{'cast_id': 2, 'character': 'Max Goldman', 'c...</td>\n",
       "      <td>[{'credit_id': '52fe466a9251416c75077a89', 'de...</td>\n",
       "      <td>15602</td>\n",
       "    </tr>\n",
       "    <tr>\n",
       "      <th>3</th>\n",
       "      <td>[{'cast_id': 1, 'character': \"Savannah 'Vannah...</td>\n",
       "      <td>[{'credit_id': '52fe44779251416c91011acb', 'de...</td>\n",
       "      <td>31357</td>\n",
       "    </tr>\n",
       "    <tr>\n",
       "      <th>4</th>\n",
       "      <td>[{'cast_id': 1, 'character': 'George Banks', '...</td>\n",
       "      <td>[{'credit_id': '52fe44959251416c75039ed7', 'de...</td>\n",
       "      <td>11862</td>\n",
       "    </tr>\n",
       "  </tbody>\n",
       "</table>\n",
       "</div>"
      ],
      "text/plain": [
       "                                                cast  \\\n",
       "0  [{'cast_id': 14, 'character': 'Woody (voice)',...   \n",
       "1  [{'cast_id': 1, 'character': 'Alan Parrish', '...   \n",
       "2  [{'cast_id': 2, 'character': 'Max Goldman', 'c...   \n",
       "3  [{'cast_id': 1, 'character': \"Savannah 'Vannah...   \n",
       "4  [{'cast_id': 1, 'character': 'George Banks', '...   \n",
       "\n",
       "                                                crew     id  \n",
       "0  [{'credit_id': '52fe4284c3a36847f8024f49', 'de...    862  \n",
       "1  [{'credit_id': '52fe44bfc3a36847f80a7cd1', 'de...   8844  \n",
       "2  [{'credit_id': '52fe466a9251416c75077a89', 'de...  15602  \n",
       "3  [{'credit_id': '52fe44779251416c91011acb', 'de...  31357  \n",
       "4  [{'credit_id': '52fe44959251416c75039ed7', 'de...  11862  "
      ]
     },
     "execution_count": 2,
     "metadata": {},
     "output_type": "execute_result"
    }
   ],
   "source": [
    "credits=pd.read_csv('/kaggle/input/the-movies-dataset/credits.csv')\n",
    "credits.head()"
   ]
  },
  {
   "cell_type": "code",
   "execution_count": 3,
   "id": "a3b9bbb9",
   "metadata": {
    "execution": {
     "iopub.execute_input": "2023-02-06T20:00:52.184479Z",
     "iopub.status.busy": "2023-02-06T20:00:52.184015Z",
     "iopub.status.idle": "2023-02-06T20:00:52.407224Z",
     "shell.execute_reply": "2023-02-06T20:00:52.405954Z"
    },
    "papermill": {
     "duration": 0.234044,
     "end_time": "2023-02-06T20:00:52.409863",
     "exception": false,
     "start_time": "2023-02-06T20:00:52.175819",
     "status": "completed"
    },
    "tags": []
   },
   "outputs": [
    {
     "data": {
      "text/html": [
       "<div>\n",
       "<style scoped>\n",
       "    .dataframe tbody tr th:only-of-type {\n",
       "        vertical-align: middle;\n",
       "    }\n",
       "\n",
       "    .dataframe tbody tr th {\n",
       "        vertical-align: top;\n",
       "    }\n",
       "\n",
       "    .dataframe thead th {\n",
       "        text-align: right;\n",
       "    }\n",
       "</style>\n",
       "<table border=\"1\" class=\"dataframe\">\n",
       "  <thead>\n",
       "    <tr style=\"text-align: right;\">\n",
       "      <th></th>\n",
       "      <th>id</th>\n",
       "      <th>keywords</th>\n",
       "    </tr>\n",
       "  </thead>\n",
       "  <tbody>\n",
       "    <tr>\n",
       "      <th>0</th>\n",
       "      <td>862</td>\n",
       "      <td>[{'id': 931, 'name': 'jealousy'}, {'id': 4290,...</td>\n",
       "    </tr>\n",
       "    <tr>\n",
       "      <th>1</th>\n",
       "      <td>8844</td>\n",
       "      <td>[{'id': 10090, 'name': 'board game'}, {'id': 1...</td>\n",
       "    </tr>\n",
       "    <tr>\n",
       "      <th>2</th>\n",
       "      <td>15602</td>\n",
       "      <td>[{'id': 1495, 'name': 'fishing'}, {'id': 12392...</td>\n",
       "    </tr>\n",
       "    <tr>\n",
       "      <th>3</th>\n",
       "      <td>31357</td>\n",
       "      <td>[{'id': 818, 'name': 'based on novel'}, {'id':...</td>\n",
       "    </tr>\n",
       "    <tr>\n",
       "      <th>4</th>\n",
       "      <td>11862</td>\n",
       "      <td>[{'id': 1009, 'name': 'baby'}, {'id': 1599, 'n...</td>\n",
       "    </tr>\n",
       "  </tbody>\n",
       "</table>\n",
       "</div>"
      ],
      "text/plain": [
       "      id                                           keywords\n",
       "0    862  [{'id': 931, 'name': 'jealousy'}, {'id': 4290,...\n",
       "1   8844  [{'id': 10090, 'name': 'board game'}, {'id': 1...\n",
       "2  15602  [{'id': 1495, 'name': 'fishing'}, {'id': 12392...\n",
       "3  31357  [{'id': 818, 'name': 'based on novel'}, {'id':...\n",
       "4  11862  [{'id': 1009, 'name': 'baby'}, {'id': 1599, 'n..."
      ]
     },
     "execution_count": 3,
     "metadata": {},
     "output_type": "execute_result"
    }
   ],
   "source": [
    "\n",
    "keywords=pd.read_csv('/kaggle/input/the-movies-dataset/keywords.csv')\n",
    "keywords.head()"
   ]
  },
  {
   "cell_type": "code",
   "execution_count": 4,
   "id": "36b657fe",
   "metadata": {
    "execution": {
     "iopub.execute_input": "2023-02-06T20:00:52.426526Z",
     "iopub.status.busy": "2023-02-06T20:00:52.426115Z",
     "iopub.status.idle": "2023-02-06T20:00:54.128321Z",
     "shell.execute_reply": "2023-02-06T20:00:54.126839Z"
    },
    "papermill": {
     "duration": 1.713671,
     "end_time": "2023-02-06T20:00:54.131296",
     "exception": false,
     "start_time": "2023-02-06T20:00:52.417625",
     "status": "completed"
    },
    "tags": []
   },
   "outputs": [
    {
     "data": {
      "text/html": [
       "<div>\n",
       "<style scoped>\n",
       "    .dataframe tbody tr th:only-of-type {\n",
       "        vertical-align: middle;\n",
       "    }\n",
       "\n",
       "    .dataframe tbody tr th {\n",
       "        vertical-align: top;\n",
       "    }\n",
       "\n",
       "    .dataframe thead th {\n",
       "        text-align: right;\n",
       "    }\n",
       "</style>\n",
       "<table border=\"1\" class=\"dataframe\">\n",
       "  <thead>\n",
       "    <tr style=\"text-align: right;\">\n",
       "      <th></th>\n",
       "      <th>adult</th>\n",
       "      <th>belongs_to_collection</th>\n",
       "      <th>budget</th>\n",
       "      <th>genres</th>\n",
       "      <th>homepage</th>\n",
       "      <th>id</th>\n",
       "      <th>imdb_id</th>\n",
       "      <th>original_language</th>\n",
       "      <th>original_title</th>\n",
       "      <th>overview</th>\n",
       "      <th>...</th>\n",
       "      <th>release_date</th>\n",
       "      <th>revenue</th>\n",
       "      <th>runtime</th>\n",
       "      <th>spoken_languages</th>\n",
       "      <th>status</th>\n",
       "      <th>tagline</th>\n",
       "      <th>title</th>\n",
       "      <th>video</th>\n",
       "      <th>vote_average</th>\n",
       "      <th>vote_count</th>\n",
       "    </tr>\n",
       "  </thead>\n",
       "  <tbody>\n",
       "    <tr>\n",
       "      <th>0</th>\n",
       "      <td>False</td>\n",
       "      <td>{'id': 10194, 'name': 'Toy Story Collection', ...</td>\n",
       "      <td>30000000</td>\n",
       "      <td>[{'id': 16, 'name': 'Animation'}, {'id': 35, '...</td>\n",
       "      <td>http://toystory.disney.com/toy-story</td>\n",
       "      <td>862</td>\n",
       "      <td>tt0114709</td>\n",
       "      <td>en</td>\n",
       "      <td>Toy Story</td>\n",
       "      <td>Led by Woody, Andy's toys live happily in his ...</td>\n",
       "      <td>...</td>\n",
       "      <td>1995-10-30</td>\n",
       "      <td>373554033</td>\n",
       "      <td>81.0</td>\n",
       "      <td>[{'iso_639_1': 'en', 'name': 'English'}]</td>\n",
       "      <td>Released</td>\n",
       "      <td>NaN</td>\n",
       "      <td>Toy Story</td>\n",
       "      <td>False</td>\n",
       "      <td>7.7</td>\n",
       "      <td>5415</td>\n",
       "    </tr>\n",
       "    <tr>\n",
       "      <th>1</th>\n",
       "      <td>False</td>\n",
       "      <td>NaN</td>\n",
       "      <td>65000000</td>\n",
       "      <td>[{'id': 12, 'name': 'Adventure'}, {'id': 14, '...</td>\n",
       "      <td>NaN</td>\n",
       "      <td>8844</td>\n",
       "      <td>tt0113497</td>\n",
       "      <td>en</td>\n",
       "      <td>Jumanji</td>\n",
       "      <td>When siblings Judy and Peter discover an encha...</td>\n",
       "      <td>...</td>\n",
       "      <td>1995-12-15</td>\n",
       "      <td>262797249</td>\n",
       "      <td>104.0</td>\n",
       "      <td>[{'iso_639_1': 'en', 'name': 'English'}, {'iso...</td>\n",
       "      <td>Released</td>\n",
       "      <td>Roll the dice and unleash the excitement!</td>\n",
       "      <td>Jumanji</td>\n",
       "      <td>False</td>\n",
       "      <td>6.9</td>\n",
       "      <td>2413</td>\n",
       "    </tr>\n",
       "    <tr>\n",
       "      <th>2</th>\n",
       "      <td>False</td>\n",
       "      <td>{'id': 119050, 'name': 'Grumpy Old Men Collect...</td>\n",
       "      <td>0</td>\n",
       "      <td>[{'id': 10749, 'name': 'Romance'}, {'id': 35, ...</td>\n",
       "      <td>NaN</td>\n",
       "      <td>15602</td>\n",
       "      <td>tt0113228</td>\n",
       "      <td>en</td>\n",
       "      <td>Grumpier Old Men</td>\n",
       "      <td>A family wedding reignites the ancient feud be...</td>\n",
       "      <td>...</td>\n",
       "      <td>1995-12-22</td>\n",
       "      <td>0</td>\n",
       "      <td>101.0</td>\n",
       "      <td>[{'iso_639_1': 'en', 'name': 'English'}]</td>\n",
       "      <td>Released</td>\n",
       "      <td>Still Yelling. Still Fighting. Still Ready for...</td>\n",
       "      <td>Grumpier Old Men</td>\n",
       "      <td>False</td>\n",
       "      <td>6.5</td>\n",
       "      <td>92</td>\n",
       "    </tr>\n",
       "    <tr>\n",
       "      <th>3</th>\n",
       "      <td>False</td>\n",
       "      <td>NaN</td>\n",
       "      <td>16000000</td>\n",
       "      <td>[{'id': 35, 'name': 'Comedy'}, {'id': 18, 'nam...</td>\n",
       "      <td>NaN</td>\n",
       "      <td>31357</td>\n",
       "      <td>tt0114885</td>\n",
       "      <td>en</td>\n",
       "      <td>Waiting to Exhale</td>\n",
       "      <td>Cheated on, mistreated and stepped on, the wom...</td>\n",
       "      <td>...</td>\n",
       "      <td>1995-12-22</td>\n",
       "      <td>81452156</td>\n",
       "      <td>127.0</td>\n",
       "      <td>[{'iso_639_1': 'en', 'name': 'English'}]</td>\n",
       "      <td>Released</td>\n",
       "      <td>Friends are the people who let you be yourself...</td>\n",
       "      <td>Waiting to Exhale</td>\n",
       "      <td>False</td>\n",
       "      <td>6.1</td>\n",
       "      <td>34</td>\n",
       "    </tr>\n",
       "    <tr>\n",
       "      <th>4</th>\n",
       "      <td>False</td>\n",
       "      <td>{'id': 96871, 'name': 'Father of the Bride Col...</td>\n",
       "      <td>0</td>\n",
       "      <td>[{'id': 35, 'name': 'Comedy'}]</td>\n",
       "      <td>NaN</td>\n",
       "      <td>11862</td>\n",
       "      <td>tt0113041</td>\n",
       "      <td>en</td>\n",
       "      <td>Father of the Bride Part II</td>\n",
       "      <td>Just when George Banks has recovered from his ...</td>\n",
       "      <td>...</td>\n",
       "      <td>1995-02-10</td>\n",
       "      <td>76578911</td>\n",
       "      <td>106.0</td>\n",
       "      <td>[{'iso_639_1': 'en', 'name': 'English'}]</td>\n",
       "      <td>Released</td>\n",
       "      <td>Just When His World Is Back To Normal... He's ...</td>\n",
       "      <td>Father of the Bride Part II</td>\n",
       "      <td>False</td>\n",
       "      <td>5.7</td>\n",
       "      <td>173</td>\n",
       "    </tr>\n",
       "  </tbody>\n",
       "</table>\n",
       "<p>5 rows × 24 columns</p>\n",
       "</div>"
      ],
      "text/plain": [
       "   adult                              belongs_to_collection    budget  \\\n",
       "0  False  {'id': 10194, 'name': 'Toy Story Collection', ...  30000000   \n",
       "1  False                                                NaN  65000000   \n",
       "2  False  {'id': 119050, 'name': 'Grumpy Old Men Collect...         0   \n",
       "3  False                                                NaN  16000000   \n",
       "4  False  {'id': 96871, 'name': 'Father of the Bride Col...         0   \n",
       "\n",
       "                                              genres  \\\n",
       "0  [{'id': 16, 'name': 'Animation'}, {'id': 35, '...   \n",
       "1  [{'id': 12, 'name': 'Adventure'}, {'id': 14, '...   \n",
       "2  [{'id': 10749, 'name': 'Romance'}, {'id': 35, ...   \n",
       "3  [{'id': 35, 'name': 'Comedy'}, {'id': 18, 'nam...   \n",
       "4                     [{'id': 35, 'name': 'Comedy'}]   \n",
       "\n",
       "                               homepage     id    imdb_id original_language  \\\n",
       "0  http://toystory.disney.com/toy-story    862  tt0114709                en   \n",
       "1                                   NaN   8844  tt0113497                en   \n",
       "2                                   NaN  15602  tt0113228                en   \n",
       "3                                   NaN  31357  tt0114885                en   \n",
       "4                                   NaN  11862  tt0113041                en   \n",
       "\n",
       "                original_title  \\\n",
       "0                    Toy Story   \n",
       "1                      Jumanji   \n",
       "2             Grumpier Old Men   \n",
       "3            Waiting to Exhale   \n",
       "4  Father of the Bride Part II   \n",
       "\n",
       "                                            overview  ... release_date  \\\n",
       "0  Led by Woody, Andy's toys live happily in his ...  ...   1995-10-30   \n",
       "1  When siblings Judy and Peter discover an encha...  ...   1995-12-15   \n",
       "2  A family wedding reignites the ancient feud be...  ...   1995-12-22   \n",
       "3  Cheated on, mistreated and stepped on, the wom...  ...   1995-12-22   \n",
       "4  Just when George Banks has recovered from his ...  ...   1995-02-10   \n",
       "\n",
       "     revenue runtime                                   spoken_languages  \\\n",
       "0  373554033    81.0           [{'iso_639_1': 'en', 'name': 'English'}]   \n",
       "1  262797249   104.0  [{'iso_639_1': 'en', 'name': 'English'}, {'iso...   \n",
       "2          0   101.0           [{'iso_639_1': 'en', 'name': 'English'}]   \n",
       "3   81452156   127.0           [{'iso_639_1': 'en', 'name': 'English'}]   \n",
       "4   76578911   106.0           [{'iso_639_1': 'en', 'name': 'English'}]   \n",
       "\n",
       "     status                                            tagline  \\\n",
       "0  Released                                                NaN   \n",
       "1  Released          Roll the dice and unleash the excitement!   \n",
       "2  Released  Still Yelling. Still Fighting. Still Ready for...   \n",
       "3  Released  Friends are the people who let you be yourself...   \n",
       "4  Released  Just When His World Is Back To Normal... He's ...   \n",
       "\n",
       "                         title  video vote_average vote_count  \n",
       "0                    Toy Story  False          7.7       5415  \n",
       "1                      Jumanji  False          6.9       2413  \n",
       "2             Grumpier Old Men  False          6.5         92  \n",
       "3            Waiting to Exhale  False          6.1         34  \n",
       "4  Father of the Bride Part II  False          5.7        173  \n",
       "\n",
       "[5 rows x 24 columns]"
      ]
     },
     "execution_count": 4,
     "metadata": {},
     "output_type": "execute_result"
    }
   ],
   "source": [
    "movies_metadata=pd.read_csv('/kaggle/input/the-movies-dataset/movies_metadata.csv',dtype='unicode')\n",
    "movies_metadata.head()\n"
   ]
  },
  {
   "cell_type": "code",
   "execution_count": 5,
   "id": "0e689855",
   "metadata": {
    "execution": {
     "iopub.execute_input": "2023-02-06T20:00:54.148316Z",
     "iopub.status.busy": "2023-02-06T20:00:54.147879Z",
     "iopub.status.idle": "2023-02-06T20:00:54.201577Z",
     "shell.execute_reply": "2023-02-06T20:00:54.200355Z"
    },
    "papermill": {
     "duration": 0.065421,
     "end_time": "2023-02-06T20:00:54.204439",
     "exception": false,
     "start_time": "2023-02-06T20:00:54.139018",
     "status": "completed"
    },
    "tags": []
   },
   "outputs": [
    {
     "data": {
      "text/html": [
       "<div>\n",
       "<style scoped>\n",
       "    .dataframe tbody tr th:only-of-type {\n",
       "        vertical-align: middle;\n",
       "    }\n",
       "\n",
       "    .dataframe tbody tr th {\n",
       "        vertical-align: top;\n",
       "    }\n",
       "\n",
       "    .dataframe thead th {\n",
       "        text-align: right;\n",
       "    }\n",
       "</style>\n",
       "<table border=\"1\" class=\"dataframe\">\n",
       "  <thead>\n",
       "    <tr style=\"text-align: right;\">\n",
       "      <th></th>\n",
       "      <th>cast</th>\n",
       "      <th>crew</th>\n",
       "      <th>id</th>\n",
       "      <th>keywords</th>\n",
       "    </tr>\n",
       "  </thead>\n",
       "  <tbody>\n",
       "    <tr>\n",
       "      <th>0</th>\n",
       "      <td>[{'cast_id': 14, 'character': 'Woody (voice)',...</td>\n",
       "      <td>[{'credit_id': '52fe4284c3a36847f8024f49', 'de...</td>\n",
       "      <td>862</td>\n",
       "      <td>[{'id': 931, 'name': 'jealousy'}, {'id': 4290,...</td>\n",
       "    </tr>\n",
       "    <tr>\n",
       "      <th>1</th>\n",
       "      <td>[{'cast_id': 1, 'character': 'Alan Parrish', '...</td>\n",
       "      <td>[{'credit_id': '52fe44bfc3a36847f80a7cd1', 'de...</td>\n",
       "      <td>8844</td>\n",
       "      <td>[{'id': 10090, 'name': 'board game'}, {'id': 1...</td>\n",
       "    </tr>\n",
       "    <tr>\n",
       "      <th>2</th>\n",
       "      <td>[{'cast_id': 2, 'character': 'Max Goldman', 'c...</td>\n",
       "      <td>[{'credit_id': '52fe466a9251416c75077a89', 'de...</td>\n",
       "      <td>15602</td>\n",
       "      <td>[{'id': 1495, 'name': 'fishing'}, {'id': 12392...</td>\n",
       "    </tr>\n",
       "    <tr>\n",
       "      <th>3</th>\n",
       "      <td>[{'cast_id': 1, 'character': \"Savannah 'Vannah...</td>\n",
       "      <td>[{'credit_id': '52fe44779251416c91011acb', 'de...</td>\n",
       "      <td>31357</td>\n",
       "      <td>[{'id': 818, 'name': 'based on novel'}, {'id':...</td>\n",
       "    </tr>\n",
       "    <tr>\n",
       "      <th>4</th>\n",
       "      <td>[{'cast_id': 1, 'character': 'George Banks', '...</td>\n",
       "      <td>[{'credit_id': '52fe44959251416c75039ed7', 'de...</td>\n",
       "      <td>11862</td>\n",
       "      <td>[{'id': 1009, 'name': 'baby'}, {'id': 1599, 'n...</td>\n",
       "    </tr>\n",
       "  </tbody>\n",
       "</table>\n",
       "</div>"
      ],
      "text/plain": [
       "                                                cast  \\\n",
       "0  [{'cast_id': 14, 'character': 'Woody (voice)',...   \n",
       "1  [{'cast_id': 1, 'character': 'Alan Parrish', '...   \n",
       "2  [{'cast_id': 2, 'character': 'Max Goldman', 'c...   \n",
       "3  [{'cast_id': 1, 'character': \"Savannah 'Vannah...   \n",
       "4  [{'cast_id': 1, 'character': 'George Banks', '...   \n",
       "\n",
       "                                                crew     id  \\\n",
       "0  [{'credit_id': '52fe4284c3a36847f8024f49', 'de...    862   \n",
       "1  [{'credit_id': '52fe44bfc3a36847f80a7cd1', 'de...   8844   \n",
       "2  [{'credit_id': '52fe466a9251416c75077a89', 'de...  15602   \n",
       "3  [{'credit_id': '52fe44779251416c91011acb', 'de...  31357   \n",
       "4  [{'credit_id': '52fe44959251416c75039ed7', 'de...  11862   \n",
       "\n",
       "                                            keywords  \n",
       "0  [{'id': 931, 'name': 'jealousy'}, {'id': 4290,...  \n",
       "1  [{'id': 10090, 'name': 'board game'}, {'id': 1...  \n",
       "2  [{'id': 1495, 'name': 'fishing'}, {'id': 12392...  \n",
       "3  [{'id': 818, 'name': 'based on novel'}, {'id':...  \n",
       "4  [{'id': 1009, 'name': 'baby'}, {'id': 1599, 'n...  "
      ]
     },
     "execution_count": 5,
     "metadata": {},
     "output_type": "execute_result"
    }
   ],
   "source": [
    "#merge 2 dataframe\n",
    "df=pd.merge(credits,keywords,on='id')\n",
    "#print(df.shape())\n",
    "df.head()"
   ]
  },
  {
   "cell_type": "code",
   "execution_count": 6,
   "id": "0719c904",
   "metadata": {
    "execution": {
     "iopub.execute_input": "2023-02-06T20:00:54.221509Z",
     "iopub.status.busy": "2023-02-06T20:00:54.221041Z",
     "iopub.status.idle": "2023-02-06T20:00:54.230928Z",
     "shell.execute_reply": "2023-02-06T20:00:54.229750Z"
    },
    "papermill": {
     "duration": 0.021309,
     "end_time": "2023-02-06T20:00:54.233470",
     "exception": false,
     "start_time": "2023-02-06T20:00:54.212161",
     "status": "completed"
    },
    "tags": []
   },
   "outputs": [
    {
     "data": {
      "text/plain": [
       "adult                    object\n",
       "belongs_to_collection    object\n",
       "budget                   object\n",
       "genres                   object\n",
       "homepage                 object\n",
       "id                       object\n",
       "imdb_id                  object\n",
       "original_language        object\n",
       "original_title           object\n",
       "overview                 object\n",
       "popularity               object\n",
       "poster_path              object\n",
       "production_companies     object\n",
       "production_countries     object\n",
       "release_date             object\n",
       "revenue                  object\n",
       "runtime                  object\n",
       "spoken_languages         object\n",
       "status                   object\n",
       "tagline                  object\n",
       "title                    object\n",
       "video                    object\n",
       "vote_average             object\n",
       "vote_count               object\n",
       "dtype: object"
      ]
     },
     "execution_count": 6,
     "metadata": {},
     "output_type": "execute_result"
    }
   ],
   "source": [
    "movies_metadata.dtypes"
   ]
  },
  {
   "cell_type": "code",
   "execution_count": 7,
   "id": "52a2612f",
   "metadata": {
    "execution": {
     "iopub.execute_input": "2023-02-06T20:00:54.251214Z",
     "iopub.status.busy": "2023-02-06T20:00:54.250418Z",
     "iopub.status.idle": "2023-02-06T20:00:54.480096Z",
     "shell.execute_reply": "2023-02-06T20:00:54.478874Z"
    },
    "papermill": {
     "duration": 0.241799,
     "end_time": "2023-02-06T20:00:54.482841",
     "exception": false,
     "start_time": "2023-02-06T20:00:54.241042",
     "status": "completed"
    },
    "tags": []
   },
   "outputs": [
    {
     "data": {
      "text/html": [
       "<div>\n",
       "<style scoped>\n",
       "    .dataframe tbody tr th:only-of-type {\n",
       "        vertical-align: middle;\n",
       "    }\n",
       "\n",
       "    .dataframe tbody tr th {\n",
       "        vertical-align: top;\n",
       "    }\n",
       "\n",
       "    .dataframe thead th {\n",
       "        text-align: right;\n",
       "    }\n",
       "</style>\n",
       "<table border=\"1\" class=\"dataframe\">\n",
       "  <thead>\n",
       "    <tr style=\"text-align: right;\">\n",
       "      <th></th>\n",
       "      <th>id</th>\n",
       "    </tr>\n",
       "  </thead>\n",
       "  <tbody>\n",
       "    <tr>\n",
       "      <th>count</th>\n",
       "      <td>46628.000000</td>\n",
       "    </tr>\n",
       "    <tr>\n",
       "      <th>mean</th>\n",
       "      <td>109678.820837</td>\n",
       "    </tr>\n",
       "    <tr>\n",
       "      <th>std</th>\n",
       "      <td>112908.126984</td>\n",
       "    </tr>\n",
       "    <tr>\n",
       "      <th>min</th>\n",
       "      <td>2.000000</td>\n",
       "    </tr>\n",
       "    <tr>\n",
       "      <th>25%</th>\n",
       "      <td>26760.250000</td>\n",
       "    </tr>\n",
       "    <tr>\n",
       "      <th>50%</th>\n",
       "      <td>61299.000000</td>\n",
       "    </tr>\n",
       "    <tr>\n",
       "      <th>75%</th>\n",
       "      <td>159624.000000</td>\n",
       "    </tr>\n",
       "    <tr>\n",
       "      <th>max</th>\n",
       "      <td>469172.000000</td>\n",
       "    </tr>\n",
       "  </tbody>\n",
       "</table>\n",
       "</div>"
      ],
      "text/plain": [
       "                  id\n",
       "count   46628.000000\n",
       "mean   109678.820837\n",
       "std    112908.126984\n",
       "min         2.000000\n",
       "25%     26760.250000\n",
       "50%     61299.000000\n",
       "75%    159624.000000\n",
       "max    469172.000000"
      ]
     },
     "execution_count": 7,
     "metadata": {},
     "output_type": "execute_result"
    }
   ],
   "source": [
    "movies_metadata['id']=pd.to_numeric(movies_metadata['id'],errors='coerce')\n",
    "df=pd.merge(df,movies_metadata,on='id')\n",
    "df.describe()"
   ]
  },
  {
   "cell_type": "code",
   "execution_count": 8,
   "id": "50150b97",
   "metadata": {
    "execution": {
     "iopub.execute_input": "2023-02-06T20:00:54.500296Z",
     "iopub.status.busy": "2023-02-06T20:00:54.499830Z",
     "iopub.status.idle": "2023-02-06T20:00:54.504630Z",
     "shell.execute_reply": "2023-02-06T20:00:54.503546Z"
    },
    "papermill": {
     "duration": 0.016271,
     "end_time": "2023-02-06T20:00:54.507027",
     "exception": false,
     "start_time": "2023-02-06T20:00:54.490756",
     "status": "completed"
    },
    "tags": []
   },
   "outputs": [],
   "source": [
    "#the things we are going to keep are:\n",
    "\n",
    "#id\n",
    "#original_title\n",
    "#title\n",
    "#genres\n",
    "#keywords\n",
    "#cast\n",
    "#crew\n",
    "#overview\n",
    "#imdb_id\n",
    "#vote_average"
   ]
  },
  {
   "cell_type": "code",
   "execution_count": 9,
   "id": "4478fa27",
   "metadata": {
    "execution": {
     "iopub.execute_input": "2023-02-06T20:00:54.524678Z",
     "iopub.status.busy": "2023-02-06T20:00:54.524227Z",
     "iopub.status.idle": "2023-02-06T20:00:54.543717Z",
     "shell.execute_reply": "2023-02-06T20:00:54.542506Z"
    },
    "papermill": {
     "duration": 0.031228,
     "end_time": "2023-02-06T20:00:54.546269",
     "exception": false,
     "start_time": "2023-02-06T20:00:54.515041",
     "status": "completed"
    },
    "tags": []
   },
   "outputs": [],
   "source": [
    "#taking the rows from the document\n",
    "new_df=df[['id','original_title','title','genres', 'keywords','cast', 'crew', 'overview', 'imdb_id','vote_average']]"
   ]
  },
  {
   "cell_type": "code",
   "execution_count": 10,
   "id": "fc908cbd",
   "metadata": {
    "execution": {
     "iopub.execute_input": "2023-02-06T20:00:54.563890Z",
     "iopub.status.busy": "2023-02-06T20:00:54.563459Z",
     "iopub.status.idle": "2023-02-06T20:00:54.569702Z",
     "shell.execute_reply": "2023-02-06T20:00:54.568436Z"
    },
    "papermill": {
     "duration": 0.018087,
     "end_time": "2023-02-06T20:00:54.572209",
     "exception": false,
     "start_time": "2023-02-06T20:00:54.554122",
     "status": "completed"
    },
    "tags": []
   },
   "outputs": [],
   "source": [
    "# from the columns taking only names \n",
    "def take_tag(data):\n",
    "    y=[]\n",
    "    for i in ast.literal_eval(data):\n",
    "        y.append(i['name'])\n",
    "    return y"
   ]
  },
  {
   "cell_type": "code",
   "execution_count": 11,
   "id": "72ceebca",
   "metadata": {
    "execution": {
     "iopub.execute_input": "2023-02-06T20:00:54.590174Z",
     "iopub.status.busy": "2023-02-06T20:00:54.589741Z",
     "iopub.status.idle": "2023-02-06T20:01:17.783439Z",
     "shell.execute_reply": "2023-02-06T20:01:17.782080Z"
    },
    "papermill": {
     "duration": 23.206631,
     "end_time": "2023-02-06T20:01:17.786567",
     "exception": false,
     "start_time": "2023-02-06T20:00:54.579936",
     "status": "completed"
    },
    "tags": []
   },
   "outputs": [
    {
     "name": "stderr",
     "output_type": "stream",
     "text": [
      "/opt/conda/lib/python3.7/site-packages/ipykernel_launcher.py:1: SettingWithCopyWarning: \n",
      "A value is trying to be set on a copy of a slice from a DataFrame.\n",
      "Try using .loc[row_indexer,col_indexer] = value instead\n",
      "\n",
      "See the caveats in the documentation: https://pandas.pydata.org/pandas-docs/stable/user_guide/indexing.html#returning-a-view-versus-a-copy\n",
      "  \"\"\"Entry point for launching an IPython kernel.\n",
      "/opt/conda/lib/python3.7/site-packages/ipykernel_launcher.py:2: SettingWithCopyWarning: \n",
      "A value is trying to be set on a copy of a slice from a DataFrame.\n",
      "Try using .loc[row_indexer,col_indexer] = value instead\n",
      "\n",
      "See the caveats in the documentation: https://pandas.pydata.org/pandas-docs/stable/user_guide/indexing.html#returning-a-view-versus-a-copy\n",
      "  \n",
      "/opt/conda/lib/python3.7/site-packages/ipykernel_launcher.py:3: SettingWithCopyWarning: \n",
      "A value is trying to be set on a copy of a slice from a DataFrame.\n",
      "Try using .loc[row_indexer,col_indexer] = value instead\n",
      "\n",
      "See the caveats in the documentation: https://pandas.pydata.org/pandas-docs/stable/user_guide/indexing.html#returning-a-view-versus-a-copy\n",
      "  This is separate from the ipykernel package so we can avoid doing imports until\n"
     ]
    }
   ],
   "source": [
    "\n",
    "new_df['genres']=new_df['genres'].apply(take_tag)\n",
    "new_df['keywords']=new_df['keywords'].apply(take_tag)\n",
    "new_df['cast']=new_df['cast'].apply(take_tag)"
   ]
  },
  {
   "cell_type": "code",
   "execution_count": 12,
   "id": "5d38c9dc",
   "metadata": {
    "execution": {
     "iopub.execute_input": "2023-02-06T20:01:17.807108Z",
     "iopub.status.busy": "2023-02-06T20:01:17.806279Z",
     "iopub.status.idle": "2023-02-06T20:01:17.812689Z",
     "shell.execute_reply": "2023-02-06T20:01:17.811324Z"
    },
    "papermill": {
     "duration": 0.01835,
     "end_time": "2023-02-06T20:01:17.815008",
     "exception": false,
     "start_time": "2023-02-06T20:01:17.796658",
     "status": "completed"
    },
    "tags": []
   },
   "outputs": [],
   "source": [
    "#removes space from string\n",
    "def remove_spaces(data):\n",
    "    y=[]\n",
    "    for i in data:\n",
    "        y.append(i.replace(\" \",\"\").lower())\n",
    "    return y"
   ]
  },
  {
   "cell_type": "code",
   "execution_count": 13,
   "id": "9757463d",
   "metadata": {
    "execution": {
     "iopub.execute_input": "2023-02-06T20:01:17.832889Z",
     "iopub.status.busy": "2023-02-06T20:01:17.832494Z",
     "iopub.status.idle": "2023-02-06T20:01:18.496434Z",
     "shell.execute_reply": "2023-02-06T20:01:18.495132Z"
    },
    "papermill": {
     "duration": 0.676326,
     "end_time": "2023-02-06T20:01:18.499428",
     "exception": false,
     "start_time": "2023-02-06T20:01:17.823102",
     "status": "completed"
    },
    "tags": []
   },
   "outputs": [
    {
     "name": "stderr",
     "output_type": "stream",
     "text": [
      "/opt/conda/lib/python3.7/site-packages/ipykernel_launcher.py:1: SettingWithCopyWarning: \n",
      "A value is trying to be set on a copy of a slice from a DataFrame.\n",
      "Try using .loc[row_indexer,col_indexer] = value instead\n",
      "\n",
      "See the caveats in the documentation: https://pandas.pydata.org/pandas-docs/stable/user_guide/indexing.html#returning-a-view-versus-a-copy\n",
      "  \"\"\"Entry point for launching an IPython kernel.\n",
      "/opt/conda/lib/python3.7/site-packages/ipykernel_launcher.py:2: SettingWithCopyWarning: \n",
      "A value is trying to be set on a copy of a slice from a DataFrame.\n",
      "Try using .loc[row_indexer,col_indexer] = value instead\n",
      "\n",
      "See the caveats in the documentation: https://pandas.pydata.org/pandas-docs/stable/user_guide/indexing.html#returning-a-view-versus-a-copy\n",
      "  \n",
      "/opt/conda/lib/python3.7/site-packages/ipykernel_launcher.py:3: SettingWithCopyWarning: \n",
      "A value is trying to be set on a copy of a slice from a DataFrame.\n",
      "Try using .loc[row_indexer,col_indexer] = value instead\n",
      "\n",
      "See the caveats in the documentation: https://pandas.pydata.org/pandas-docs/stable/user_guide/indexing.html#returning-a-view-versus-a-copy\n",
      "  This is separate from the ipykernel package so we can avoid doing imports until\n"
     ]
    }
   ],
   "source": [
    "new_df['genres']=new_df['genres'].apply(remove_spaces)\n",
    "new_df['keywords']=new_df['keywords'].apply(remove_spaces)\n",
    "new_df['cast']=new_df['cast'].apply(remove_spaces)"
   ]
  },
  {
   "cell_type": "code",
   "execution_count": 14,
   "id": "6dfad660",
   "metadata": {
    "execution": {
     "iopub.execute_input": "2023-02-06T20:01:18.518516Z",
     "iopub.status.busy": "2023-02-06T20:01:18.518084Z",
     "iopub.status.idle": "2023-02-06T20:01:19.039036Z",
     "shell.execute_reply": "2023-02-06T20:01:19.037711Z"
    },
    "papermill": {
     "duration": 0.534022,
     "end_time": "2023-02-06T20:01:19.041895",
     "exception": false,
     "start_time": "2023-02-06T20:01:18.507873",
     "status": "completed"
    },
    "tags": []
   },
   "outputs": [],
   "source": [
    "#deleting all the movies which dosent have overview\n",
    "new_df=new_df.drop(new_df[new_df['overview'].isnull()].index)\n",
    "\n",
    "new_df['overview']=new_df['overview'].apply(lambda x:x.split())"
   ]
  },
  {
   "cell_type": "code",
   "execution_count": 15,
   "id": "1fb2243e",
   "metadata": {
    "execution": {
     "iopub.execute_input": "2023-02-06T20:01:19.060212Z",
     "iopub.status.busy": "2023-02-06T20:01:19.059668Z",
     "iopub.status.idle": "2023-02-06T20:01:19.128161Z",
     "shell.execute_reply": "2023-02-06T20:01:19.126883Z"
    },
    "papermill": {
     "duration": 0.080922,
     "end_time": "2023-02-06T20:01:19.131267",
     "exception": false,
     "start_time": "2023-02-06T20:01:19.050345",
     "status": "completed"
    },
    "tags": []
   },
   "outputs": [],
   "source": [
    "#convering string to list and saving in different column to add it to tag\n",
    "new_df=new_df.drop(new_df[new_df['title'].isnull()].index)\n",
    "new_df['title1']=new_df['title'].apply(lambda x:x.split())"
   ]
  },
  {
   "cell_type": "code",
   "execution_count": 16,
   "id": "4ed3d512",
   "metadata": {
    "execution": {
     "iopub.execute_input": "2023-02-06T20:01:19.150979Z",
     "iopub.status.busy": "2023-02-06T20:01:19.149930Z",
     "iopub.status.idle": "2023-02-06T20:01:19.945458Z",
     "shell.execute_reply": "2023-02-06T20:01:19.944152Z"
    },
    "papermill": {
     "duration": 0.808075,
     "end_time": "2023-02-06T20:01:19.948241",
     "exception": false,
     "start_time": "2023-02-06T20:01:19.140166",
     "status": "completed"
    },
    "tags": []
   },
   "outputs": [
    {
     "name": "stderr",
     "output_type": "stream",
     "text": [
      "/opt/conda/lib/python3.7/site-packages/ipykernel_launcher.py:3: SettingWithCopyWarning: \n",
      "A value is trying to be set on a copy of a slice from a DataFrame.\n",
      "Try using .loc[row_indexer,col_indexer] = value instead\n",
      "\n",
      "See the caveats in the documentation: https://pandas.pydata.org/pandas-docs/stable/user_guide/indexing.html#returning-a-view-versus-a-copy\n",
      "  This is separate from the ipykernel package so we can avoid doing imports until\n",
      "/opt/conda/lib/python3.7/site-packages/ipykernel_launcher.py:4: SettingWithCopyWarning: \n",
      "A value is trying to be set on a copy of a slice from a DataFrame.\n",
      "Try using .loc[row_indexer,col_indexer] = value instead\n",
      "\n",
      "See the caveats in the documentation: https://pandas.pydata.org/pandas-docs/stable/user_guide/indexing.html#returning-a-view-versus-a-copy\n",
      "  after removing the cwd from sys.path.\n"
     ]
    }
   ],
   "source": [
    "#creating data frame containg only 3 rows ie: id,title,tag\n",
    "movies=new_df[['id','title']]\n",
    "movies['tag']=new_df['keywords']+new_df['cast']+new_df['overview']+new_df['title1']\n",
    "movies['tag']=movies['tag'].apply(lambda x:' '.join(x))"
   ]
  },
  {
   "cell_type": "code",
   "execution_count": 17,
   "id": "f34e7614",
   "metadata": {
    "execution": {
     "iopub.execute_input": "2023-02-06T20:01:19.966680Z",
     "iopub.status.busy": "2023-02-06T20:01:19.966255Z",
     "iopub.status.idle": "2023-02-06T20:01:20.717126Z",
     "shell.execute_reply": "2023-02-06T20:01:20.715241Z"
    },
    "papermill": {
     "duration": 0.764118,
     "end_time": "2023-02-06T20:01:20.720569",
     "exception": false,
     "start_time": "2023-02-06T20:01:19.956451",
     "status": "completed"
    },
    "tags": []
   },
   "outputs": [
    {
     "name": "stderr",
     "output_type": "stream",
     "text": [
      "/opt/conda/lib/python3.7/site-packages/ipykernel_launcher.py:3: SettingWithCopyWarning: \n",
      "A value is trying to be set on a copy of a slice from a DataFrame.\n",
      "Try using .loc[row_indexer,col_indexer] = value instead\n",
      "\n",
      "See the caveats in the documentation: https://pandas.pydata.org/pandas-docs/stable/user_guide/indexing.html#returning-a-view-versus-a-copy\n",
      "  This is separate from the ipykernel package so we can avoid doing imports until\n",
      "/opt/conda/lib/python3.7/site-packages/ipykernel_launcher.py:4: SettingWithCopyWarning: \n",
      "A value is trying to be set on a copy of a slice from a DataFrame.\n",
      "Try using .loc[row_indexer,col_indexer] = value instead\n",
      "\n",
      "See the caveats in the documentation: https://pandas.pydata.org/pandas-docs/stable/user_guide/indexing.html#returning-a-view-versus-a-copy\n",
      "  after removing the cwd from sys.path.\n"
     ]
    }
   ],
   "source": [
    "#creating data frame containg only 3 rows ie: id,title,tag\n",
    "movies=new_df[['id','title']]\n",
    "movies['tag']=new_df['keywords']+new_df['cast']+new_df['overview']+new_df['title1']\n",
    "movies['tag']=movies['tag'].apply(lambda x:' '.join(x))"
   ]
  },
  {
   "cell_type": "code",
   "execution_count": 18,
   "id": "46101670",
   "metadata": {
    "execution": {
     "iopub.execute_input": "2023-02-06T20:01:20.740308Z",
     "iopub.status.busy": "2023-02-06T20:01:20.739861Z",
     "iopub.status.idle": "2023-02-06T20:01:21.955128Z",
     "shell.execute_reply": "2023-02-06T20:01:21.954042Z"
    },
    "papermill": {
     "duration": 1.228393,
     "end_time": "2023-02-06T20:01:21.958191",
     "exception": false,
     "start_time": "2023-02-06T20:01:20.729798",
     "status": "completed"
    },
    "tags": []
   },
   "outputs": [],
   "source": [
    "from sklearn.feature_extraction.text import CountVectorizer\n",
    "CV=CountVectorizer(max_features=5000,stop_words='english')"
   ]
  },
  {
   "cell_type": "code",
   "execution_count": 19,
   "id": "e97d469c",
   "metadata": {
    "execution": {
     "iopub.execute_input": "2023-02-06T20:01:21.977614Z",
     "iopub.status.busy": "2023-02-06T20:01:21.977205Z",
     "iopub.status.idle": "2023-02-06T20:01:21.982708Z",
     "shell.execute_reply": "2023-02-06T20:01:21.981394Z"
    },
    "papermill": {
     "duration": 0.018409,
     "end_time": "2023-02-06T20:01:21.985418",
     "exception": false,
     "start_time": "2023-02-06T20:01:21.967009",
     "status": "completed"
    },
    "tags": []
   },
   "outputs": [],
   "source": [
    "#pip install nltk"
   ]
  },
  {
   "cell_type": "code",
   "execution_count": 20,
   "id": "f54157a8",
   "metadata": {
    "execution": {
     "iopub.execute_input": "2023-02-06T20:01:22.004881Z",
     "iopub.status.busy": "2023-02-06T20:01:22.004467Z",
     "iopub.status.idle": "2023-02-06T20:02:44.128025Z",
     "shell.execute_reply": "2023-02-06T20:02:44.126623Z"
    },
    "papermill": {
     "duration": 82.144932,
     "end_time": "2023-02-06T20:02:44.139097",
     "exception": false,
     "start_time": "2023-02-06T20:01:21.994165",
     "status": "completed"
    },
    "tags": []
   },
   "outputs": [
    {
     "name": "stderr",
     "output_type": "stream",
     "text": [
      "/opt/conda/lib/python3.7/site-packages/ipykernel_launcher.py:14: SettingWithCopyWarning: \n",
      "A value is trying to be set on a copy of a slice from a DataFrame.\n",
      "Try using .loc[row_indexer,col_indexer] = value instead\n",
      "\n",
      "See the caveats in the documentation: https://pandas.pydata.org/pandas-docs/stable/user_guide/indexing.html#returning-a-view-versus-a-copy\n",
      "  \n"
     ]
    }
   ],
   "source": [
    "# using PorterStemmer to convert synonym into same word\n",
    "from nltk.stem.porter import PorterStemmer\n",
    "ps=PorterStemmer()\n",
    "\n",
    "# convert synonym into same word\n",
    "def steamer(data):\n",
    "\n",
    "    y=[]\n",
    "    for i in data.split():\n",
    "        y.append(ps.stem(i))\n",
    "    return \" \".join(y)\n",
    "\n",
    "\n",
    "movies['tag']=movies['tag'].apply(steamer)"
   ]
  },
  {
   "cell_type": "code",
   "execution_count": 21,
   "id": "ed729cb8",
   "metadata": {
    "execution": {
     "iopub.execute_input": "2023-02-06T20:02:44.159965Z",
     "iopub.status.busy": "2023-02-06T20:02:44.159086Z",
     "iopub.status.idle": "2023-02-06T20:02:49.932470Z",
     "shell.execute_reply": "2023-02-06T20:02:49.931007Z"
    },
    "papermill": {
     "duration": 5.786645,
     "end_time": "2023-02-06T20:02:49.935851",
     "exception": false,
     "start_time": "2023-02-06T20:02:44.149206",
     "status": "completed"
    },
    "tags": []
   },
   "outputs": [],
   "source": [
    "# again count vector counting the times each word is present\n",
    "vector = CV.fit_transform(movies.tag).toarray()\n"
   ]
  },
  {
   "cell_type": "code",
   "execution_count": 22,
   "id": "d8196b86",
   "metadata": {
    "execution": {
     "iopub.execute_input": "2023-02-06T20:02:49.958143Z",
     "iopub.status.busy": "2023-02-06T20:02:49.957723Z",
     "iopub.status.idle": "2023-02-06T20:05:39.075809Z",
     "shell.execute_reply": "2023-02-06T20:05:39.074410Z"
    },
    "papermill": {
     "duration": 169.131401,
     "end_time": "2023-02-06T20:05:39.078786",
     "exception": false,
     "start_time": "2023-02-06T20:02:49.947385",
     "status": "completed"
    },
    "tags": []
   },
   "outputs": [],
   "source": [
    "#finding how different is each movie from each other movie highest is 1 and least is 0\n",
    "from sklearn.metrics.pairwise import cosine_similarity\n",
    "simalarity=cosine_similarity(vector)\n",
    "#simalarity=np.round(simalarity, 4)"
   ]
  },
  {
   "cell_type": "code",
   "execution_count": 23,
   "id": "ef836e03",
   "metadata": {
    "execution": {
     "iopub.execute_input": "2023-02-06T20:05:39.099133Z",
     "iopub.status.busy": "2023-02-06T20:05:39.098704Z",
     "iopub.status.idle": "2023-02-06T20:05:39.151225Z",
     "shell.execute_reply": "2023-02-06T20:05:39.149877Z"
    },
    "papermill": {
     "duration": 0.06535,
     "end_time": "2023-02-06T20:05:39.153792",
     "exception": false,
     "start_time": "2023-02-06T20:05:39.088442",
     "status": "completed"
    },
    "tags": []
   },
   "outputs": [
    {
     "name": "stdout",
     "output_type": "stream",
     "text": [
      "101\n",
      "Happy Gilmore\n",
      "Tin Cup\n",
      "Happy Ending\n",
      "Benji: Off the Leash!\n",
      "Love in the Rough\n",
      "Den ofrivillige golfaren\n"
     ]
    }
   ],
   "source": [
    "#function to recomend 5 movies which are most similar to the movie\n",
    "def recomender(data):\n",
    "    x=[]\n",
    "    j=movies[movies['title']==data].index[0]\n",
    "    z=sorted(list(enumerate(simalarity[j])),reverse=True,key = lambda x: x[1])\n",
    "    y=z[:6]\n",
    "    print(j)\n",
    "    for i in y:\n",
    "        print(movies.iloc[i[0]].title)\n",
    "\n",
    "recomender('Unforgettable')"
   ]
  },
  {
   "cell_type": "code",
   "execution_count": 24,
   "id": "932480e0",
   "metadata": {
    "execution": {
     "iopub.execute_input": "2023-02-06T20:05:39.173832Z",
     "iopub.status.busy": "2023-02-06T20:05:39.173437Z",
     "iopub.status.idle": "2023-02-06T20:06:40.257979Z",
     "shell.execute_reply": "2023-02-06T20:06:40.256949Z"
    },
    "papermill": {
     "duration": 61.097911,
     "end_time": "2023-02-06T20:06:40.260716",
     "exception": false,
     "start_time": "2023-02-06T20:05:39.162805",
     "status": "completed"
    },
    "tags": []
   },
   "outputs": [],
   "source": [
    "np.save('simalarity',simalarity)"
   ]
  },
  {
   "cell_type": "code",
   "execution_count": null,
   "id": "89f7469f",
   "metadata": {
    "papermill": {
     "duration": 0.008805,
     "end_time": "2023-02-06T20:06:40.283138",
     "exception": false,
     "start_time": "2023-02-06T20:06:40.274333",
     "status": "completed"
    },
    "tags": []
   },
   "outputs": [],
   "source": []
  }
 ],
 "metadata": {
  "kernelspec": {
   "display_name": "Python 3",
   "language": "python",
   "name": "python3"
  },
  "language_info": {
   "codemirror_mode": {
    "name": "ipython",
    "version": 3
   },
   "file_extension": ".py",
   "mimetype": "text/x-python",
   "name": "python",
   "nbconvert_exporter": "python",
   "pygments_lexer": "ipython3",
   "version": "3.7.12"
  },
  "papermill": {
   "default_parameters": {},
   "duration": 362.799106,
   "end_time": "2023-02-06T20:06:41.359495",
   "environment_variables": {},
   "exception": null,
   "input_path": "__notebook__.ipynb",
   "output_path": "__notebook__.ipynb",
   "parameters": {},
   "start_time": "2023-02-06T20:00:38.560389",
   "version": "2.3.4"
  }
 },
 "nbformat": 4,
 "nbformat_minor": 5
}
